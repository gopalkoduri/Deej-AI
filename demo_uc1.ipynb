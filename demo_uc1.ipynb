{
 "cells": [
  {
   "cell_type": "code",
   "execution_count": 1,
   "metadata": {},
   "outputs": [],
   "source": [
    "import os\n",
    "import subprocess\n",
    "import uuid\n",
    "import IPython.display as ipd\n",
    "from playlist_copilot.utils.smp_utils import get_track_info"
   ]
  },
  {
   "cell_type": "code",
   "execution_count": null,
   "metadata": {},
   "outputs": [],
   "source": [
    "# Function to read .m3u file and extract MP3 file paths\n",
    "def read_m3u(file_path):\n",
    "    mp3_file_paths = []\n",
    "\n",
    "    with open(file_path, 'r') as file:\n",
    "        for line in file:\n",
    "            # Skip empty lines and lines that start with '#'\n",
    "            if line.strip() and not line.startswith('#'):\n",
    "                mp3_file_paths.append(line.strip())\n",
    "\n",
    "    return mp3_file_paths\n",
    "\n",
    "# Function to create and display an audio player for each MP3 file\n",
    "def play_mp3_files(file_paths):\n",
    "    for path in file_paths:\n",
    "        track_id = os.path.splitext(os.path.basename(path))[0]\n",
    "        track_info = get_track_info(f'spotify:track:{track_id}')\n",
    "        artist = track_info['artist']\n",
    "        title = track_info['title']\n",
    "        album = track_info['album']\n",
    "        print(f\"{artist} | {title} | {album}\")\n",
    "        display(ipd.Audio(path))\n",
    "\n",
    "# Function to display the songs selected\n",
    "def print_playlist_songnames(file_paths):\n",
    "    n = 1\n",
    "    for path in file_paths:\n",
    "        track_id = os.path.splitext(os.path.basename(path))[0]\n",
    "        track_info = get_track_info(f'spotify:track:{track_id}')\n",
    "        artist = track_info['artist']\n",
    "        title = track_info['title']\n",
    "        album = track_info['album']\n",
    "        print(f\"{n}. {artist} | {title} | {album}\")\n",
    "        n += 1"
   ]
  },
  {
   "cell_type": "code",
   "execution_count": null,
   "metadata": {},
   "outputs": [],
   "source": [
    "# Song paths for ease of working\n",
    "\n",
    "# ZAYN - Still Got Time\n",
    "song_1 = '/home/aditi/Code/tech/playlist-copilot/data/spotify-million-playlists/audio/000xQL6tZNLJzIrtIgxqSl.mp3'\n",
    "# Sean Turk - Middle\n",
    "song_2 = '/home/aditi/Code/tech/playlist-copilot/data/spotify-million-playlists/audio/0032P9X3AD4AQvN7yzpmTo.mp3'\n",
    "# \n",
    "song_3 = '/home/aditi/Code/tech/playlist-copilot/data/spotify-million-playlists/audio/004XT7kCZUEJkVIZjmBdDi.mp3'\n",
    "#\n",
    "song_4 = '/home/aditi/Code/tech/playlist-copilot/data/spotify-million-playlists/audio/004skCQeDn1iLntSom0rRr.mp3'\n",
    "#\n",
    "song_5 = '/home/aditi/Code/tech/playlist-copilot/data/spotify-million-playlists/audio/005X0FmdtkM1kiutosXLTR.mp3'\n",
    "#\n",
    "song_6 = '/home/aditi/Code/tech/playlist-copilot/data/spotify-million-playlists/audio/007ogFejDqJKzEXDUDF8Nf.mp3'\n",
    "#\n",
    "song_7 = '/home/aditi/Code/tech/playlist-copilot/data/spotify-million-playlists/audio/00AvOVhsUi1gOCnHxTFw7i.mp3'\n",
    "#\n",
    "song_8 = '/home/aditi/Code/tech/playlist-copilot/data/spotify-million-playlists/audio/00AxNl4D4jHL2AEf1W55j5.mp3'\n",
    "#\n",
    "song_9 = '/home/aditi/Code/tech/playlist-copilot/data/spotify-million-playlists/audio/00BTDWR6xCaGdst6cPKkpF.mp3'\n",
    "#\n",
    "song_10 = '/home/aditi/Code/tech/playlist-copilot/data/spotify-million-playlists/audio/00Ci0EXS4fNPnkTbS6wkOh.mp3'"
   ]
  },
  {
   "cell_type": "code",
   "execution_count": null,
   "metadata": {},
   "outputs": [],
   "source": [
    "# From test_subset\n",
    "\n",
    "# Con Bro Chill - Dance Thief\n",
    "test_1 = '/home/aditi/Code/tech/playlist-copilot/data/spotify-million-playlists/test_subset/00AVE5t5MUtyGJf51V1GJG.mp3'\n",
    "\n",
    "# Fantasia - Ain't Gon' Beg You\n",
    "test_2 = '/home/aditi/Code/tech/playlist-copilot/data/spotify-million-playlists/test_subset/02wVmJecRUCtkppST87OLx.mp3'\n",
    "\n",
    "# swim good now - Since U Asked\n",
    "test_3 = '/home/aditi/Code/tech/playlist-copilot/data/spotify-million-playlists/test_subset/0Axtkw6bMF4V4HMoKd5C2g.mp3'\n",
    "\n",
    "# Halsey - Tokyo Narita Freestyle\n",
    "test_4 = '/home/aditi/Code/tech/playlist-copilot/data/spotify-million-playlists/test_subset/0W182mlOojwvO1HoXPkHXY.mp3'\n",
    "\n",
    "# Original Broadway Cast Orchestra - I'll Never Be Jealous Again [The Pajama Game]\n",
    "test_5 = '/home/aditi/Code/tech/playlist-copilot/data/spotify-million-playlists/test_subset/0qCT5x6NI9wSea0weWPjbI.mp3'\n",
    "\n",
    "# Fatboy Slim - Praise You Radio Edit\n",
    "test_6 = '/home/aditi/Code/tech/playlist-copilot/data/spotify-million-playlists/test_subset/2tn9zXqIZJbgL1swqwOktz.mp3'\n"
   ]
  },
  {
   "cell_type": "code",
   "execution_count": null,
   "metadata": {},
   "outputs": [],
   "source": [
    "# USE CASE 1:= Starting from a single seed song\n",
    "\n",
    "# Choose parameters and song\n",
    "input_file = test_5\n",
    "\n",
    "# Additional parameters, if needed\n",
    "num_songs = '10'  # Number of songs in the playlist\n",
    "noise = '0'   # Amount of noise in the playlist (default 0)\n",
    "lookback = '3' # Amount of lookback in the playlist (default 3)\n",
    "\n",
    "# Path to Python script\n",
    "script = 'Deej-A.I.py'\n",
    "\n",
    "# Arguments for the script\n",
    "mp3tovec = 'mp3tovec'\n",
    "output_file = str(uuid.uuid4()) + '.m3u'\n",
    "\n",
    "# Construct the command as a list\n",
    "command = ['python', script, 'Pickles_test', mp3tovec, '--playlist', output_file,\n",
    "           '--nsongs', num_songs, '--noise', noise, '--lookback', lookback,\n",
    "           '--inputsong', input_file]\n",
    "\n",
    "# Execute the command\n",
    "subprocess.run(command)\n",
    "\n",
    "m3u_file_path = output_file\n",
    "\n",
    "# Read the .m3u file and get the MP3 file paths\n",
    "mp3_file_paths = read_m3u(m3u_file_path)\n",
    "print_playlist_songnames(mp3_file_paths)"
   ]
  },
  {
   "cell_type": "code",
   "execution_count": null,
   "metadata": {},
   "outputs": [],
   "source": [
    "# Use this cell to listen to the audios, if needed\n",
    "\n",
    "# Call the function with the placeholder paths\n",
    "play_mp3_files(mp3_file_paths)"
   ]
  },
  {
   "cell_type": "code",
   "execution_count": null,
   "metadata": {},
   "outputs": [],
   "source": []
  },
  {
   "cell_type": "code",
   "execution_count": null,
   "metadata": {},
   "outputs": [],
   "source": []
  },
  {
   "cell_type": "code",
   "execution_count": null,
   "metadata": {},
   "outputs": [],
   "source": []
  }
 ],
 "metadata": {
  "kernelspec": {
   "display_name": "Python 3",
   "language": "python",
   "name": "python3"
  },
  "language_info": {
   "codemirror_mode": {
    "name": "ipython",
    "version": 3
   },
   "file_extension": ".py",
   "mimetype": "text/x-python",
   "name": "python",
   "nbconvert_exporter": "python",
   "pygments_lexer": "ipython3",
   "version": "3.8.13"
  }
 },
 "nbformat": 4,
 "nbformat_minor": 2
}
