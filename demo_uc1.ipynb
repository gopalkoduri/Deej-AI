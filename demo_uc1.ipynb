{
 "cells": [
  {
   "cell_type": "code",
   "execution_count": null,
   "metadata": {},
   "outputs": [],
   "source": [
    "import os\n",
    "import json\n",
    "import subprocess\n",
    "import uuid\n",
    "import IPython.display as ipd\n",
    "from playlist_copilot.utils.smp_utils import get_track_info"
   ]
  },
  {
   "cell_type": "code",
   "execution_count": null,
   "metadata": {},
   "outputs": [],
   "source": [
    "# Function to read .m3u file and extract MP3 file paths\n",
    "def read_m3u(file_path):\n",
    "    mp3_file_paths = []\n",
    "\n",
    "    with open(file_path, 'r') as file:\n",
    "        for line in file:\n",
    "            # Skip empty lines and lines that start with '#'\n",
    "            if line.strip() and not line.startswith('#'):\n",
    "                mp3_file_paths.append(line.strip())\n",
    "\n",
    "    return mp3_file_paths\n",
    "\n",
    "# Function to create and display an audio player for each MP3 file\n",
    "def play_mp3_files(file_paths):\n",
    "    for path in file_paths:\n",
    "        track_id = os.path.splitext(os.path.basename(path))[0]\n",
    "        track_info = get_track_info(f'spotify:track:{track_id}')\n",
    "        artist = track_info['artist']\n",
    "        title = track_info['title']\n",
    "        album = track_info['album']\n",
    "        print(f\"{artist} | {title} | {album}\")\n",
    "        display(ipd.Audio(path))\n",
    "\n",
    "# Function to display the songs selected and create a json using which audio can be played\n",
    "def print_playlist_songnames(file_paths, filename):\n",
    "    json_for_audio_playback = []\n",
    "    n=1\n",
    "    for path in file_paths:\n",
    "        track_id = os.path.splitext(os.path.basename(path))[0]\n",
    "        track_info = get_track_info(f'spotify:track:{track_id}')\n",
    "        track_json = {}\n",
    "        artist = track_info['artist']\n",
    "        title = track_info['title']\n",
    "        album = track_info['album']\n",
    "        track_json['sequence'] = n\n",
    "        track_json['title'] = title\n",
    "        track_json['artist'] = artist\n",
    "        track_json['album'] = album\n",
    "        track_json['audio_filepath'] = path\n",
    "        print(f\"{artist} | {title} | {album}\")\n",
    "        json_for_audio_playback.append(track_json)\n",
    "        n+=1\n",
    "    with open(f'{filename}.json', 'w') as file:\n",
    "        json.dump(json_for_audio_playback, file, indent=4)"
   ]
  },
  {
   "cell_type": "code",
   "execution_count": null,
   "metadata": {},
   "outputs": [],
   "source": [
    "# Pop\n",
    "# Taylor Swift | I Knew You Were Trouble. | Red\n",
    "test_1 = '/home/aditi/Code/tech/playlist-copilot/data/spotify-million-playlists/audio/72jCZdH0Lhg93z6Z4hBjgj.mp3'\n",
    "\n",
    "# Folk Rock / Alternative Rock\n",
    "# Mumford & Sons | White Blank Page | Sigh No More\n",
    "test_2 = '/home/aditi/Code/tech/playlist-copilot/data/spotify-million-playlists/audio/14rApQTKycs9gNg7hjm9m7.mp3'\n",
    "\n",
    "# Electronic\n",
    "# Skrillex | Scary Monsters And Nice Sprites - Noisia Remix | Scary Monsters and Nice Sprites\n",
    "test_3 = '/home/aditi/Code/tech/playlist-copilot/data/spotify-million-playlists/audio/5bPokvOlgW9dRySVnVmyJ9.mp3'\n",
    "\n",
    "# Hip Hop\n",
    "# Sage The Gemini | Don't You | Remember Me\n",
    "test_4 = '/home/aditi/Code/tech/playlist-copilot/data/spotify-million-playlists/test_subset/4FOv3s8nyCctxcgstQwtFj.mp3'\n",
    "\n",
    "# Instrumental music (piano and cello)\n",
    "# The Piano Guys | Bring Him Home | The Piano Guys\n",
    "test_5 = '/home/aditi/Code/tech/playlist-copilot/data/spotify-million-playlists/test_subset/2N6I3slzcRXW7pUw2x30qL.mp3'\n"
   ]
  },
  {
   "cell_type": "code",
   "execution_count": null,
   "metadata": {},
   "outputs": [],
   "source": [
    "# USE CASE 1:= Starting from a single seed song\n",
    "\n",
    "# Choose parameters and song\n",
    "input_file = test_5\n",
    "\n",
    "# Additional parameters, if needed\n",
    "num_songs = '10'  # Number of songs in the playlist\n",
    "noise = '0'   # Amount of noise in the playlist (default 0)\n",
    "lookback = '4' # Amount of lookback in the playlist (default 3)\n",
    "\n",
    "# Path to Python script\n",
    "script = 'Deej-A.I.py'\n",
    "\n",
    "# Arguments for the script\n",
    "mp3tovec = 'mp3tovec'\n",
    "output_file = str(uuid.uuid4()) + '.m3u'\n",
    "\n",
    "# Construct the command as a list\n",
    "command = ['python', script, 'Pickles_test', mp3tovec, '--playlist', output_file,\n",
    "           '--nsongs', num_songs, '--noise', noise, '--lookback', lookback,\n",
    "           '--inputsong', input_file]\n",
    "\n",
    "# Execute the command\n",
    "subprocess.run(command)\n",
    "\n",
    "m3u_file_path = output_file\n",
    "\n",
    "# Read the .m3u file and get the MP3 file paths\n",
    "mp3_file_paths = read_m3u(m3u_file_path)\n",
    "print_playlist_songnames(mp3_file_paths, os.path.splitext(m3u_file_path)[0])"
   ]
  },
  {
   "cell_type": "code",
   "execution_count": null,
   "metadata": {},
   "outputs": [],
   "source": [
    "# Use this cell to listen to the audios\n",
    "\n",
    "# Call the function with the placeholder paths\n",
    "mp3_file_paths = read_m3u(m3u_file_path)\n",
    "play_mp3_files(mp3_file_paths)"
   ]
  },
  {
   "cell_type": "code",
   "execution_count": null,
   "metadata": {},
   "outputs": [],
   "source": []
  }
 ],
 "metadata": {
  "kernelspec": {
   "display_name": "Python 3",
   "language": "python",
   "name": "python3"
  },
  "language_info": {
   "codemirror_mode": {
    "name": "ipython",
    "version": 3
   },
   "file_extension": ".py",
   "mimetype": "text/x-python",
   "name": "python",
   "nbconvert_exporter": "python",
   "pygments_lexer": "ipython3",
   "version": "3.8.13"
  }
 },
 "nbformat": 4,
 "nbformat_minor": 2
}
