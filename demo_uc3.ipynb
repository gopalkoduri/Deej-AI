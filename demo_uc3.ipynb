{
 "cells": [
  {
   "cell_type": "code",
   "execution_count": null,
   "metadata": {},
   "outputs": [],
   "source": [
    "import os\n",
    "import json\n",
    "import subprocess\n",
    "import uuid\n",
    "from IPython.display import Audio\n",
    "from playlist_copilot.utils.smp_utils import get_track_info"
   ]
  },
  {
   "cell_type": "code",
   "execution_count": null,
   "metadata": {},
   "outputs": [],
   "source": [
    "# Function to read .m3u file and extract MP3 file paths\n",
    "def read_m3u(file_path):\n",
    "    mp3_file_paths = []\n",
    "\n",
    "    with open(file_path, 'r') as file:\n",
    "        for line in file:\n",
    "            # Skip empty lines and lines that start with '#'\n",
    "            if line.strip() and not line.startswith('#'):\n",
    "                mp3_file_paths.append(line.strip())\n",
    "\n",
    "    return mp3_file_paths\n",
    "\n",
    "# Function to display the songs selected and create a json using which audio can be played\n",
    "def print_playlist_songnames(file_paths, filename):\n",
    "    json_for_audio_playback = []\n",
    "    n=1\n",
    "    for path in file_paths:\n",
    "        track_id = os.path.splitext(os.path.basename(path))[0]\n",
    "        track_info = get_track_info(f'spotify:track:{track_id}')\n",
    "        track_json = {}\n",
    "        artist = track_info['artist']\n",
    "        title = track_info['title']\n",
    "        album = track_info['album']\n",
    "        track_json['sequence'] = n\n",
    "        track_json['title'] = title\n",
    "        track_json['artist'] = artist\n",
    "        track_json['album'] = album\n",
    "        track_json['audio_filepath'] = path\n",
    "        print(f\"{artist} | {title} | {album}\")\n",
    "        json_for_audio_playback.append(track_json)\n",
    "        n+=1\n",
    "    with open(f'{filename}.json', 'w') as file:\n",
    "        json.dump(json_for_audio_playback, file, indent=4)\n"
   ]
  },
  {
   "cell_type": "code",
   "execution_count": null,
   "metadata": {},
   "outputs": [],
   "source": [
    "# Sample input\n",
    "\n",
    "# Warmup: Imagine Dragons | I Don’t Know Why | Evolve\n",
    "# Workout: Prince Royce | Already Missing You | Soy el Mismo\n",
    "# Cooldown: Ed Sheeran | English Rose | x\n",
    "\n",
    "tf_3 = 'tracks_3.txt'"
   ]
  },
  {
   "cell_type": "code",
   "execution_count": null,
   "metadata": {},
   "outputs": [],
   "source": [
    "# USE CASE 2:= Starting from a set of songs\n",
    "\n",
    "input_tracks_file = tf_3\n",
    "\n",
    "# Additional parameters, if needed\n",
    "n = '15'  # Number of songs between each song in input_tracks_file\n",
    "randomness = '0'   # Degree of randomness in the playlist (default 0) [0-1]\n",
    "\n",
    "output_playlist_file = str(uuid.uuid4()) + '.m3u'\n",
    "script_2 = 'Join_the_dots.py'\n",
    "mp3tovec_2 = 'Pickles_test/mp3tovecs/mp3tovec.p'\n",
    "\n",
    "# Construct the command as a list\n",
    "command_3 = ['python', script_2, mp3tovec_2, '--noise', randomness,\n",
    "             '--input', input_tracks_file,\n",
    "            output_playlist_file, n]\n",
    "\n",
    "result = subprocess.run(command_3, stdout=subprocess.PIPE, stderr=subprocess.PIPE, text=True)\n",
    "\n",
    "# Read the .m3u file and get the MP3 file paths\n",
    "mp3_file_paths = read_m3u(output_playlist_file)\n",
    "print_playlist_songnames(mp3_file_paths, os.path.splitext(output_playlist_file)[0])"
   ]
  }
 ],
 "metadata": {
  "kernelspec": {
   "display_name": "playlist_maker",
   "language": "python",
   "name": "python3"
  },
  "language_info": {
   "name": "python",
   "version": "3.8.13"
  }
 },
 "nbformat": 4,
 "nbformat_minor": 2
}
