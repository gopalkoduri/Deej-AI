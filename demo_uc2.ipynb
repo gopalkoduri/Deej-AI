{
 "cells": [
  {
   "cell_type": "code",
   "execution_count": 9,
   "metadata": {},
   "outputs": [],
   "source": [
    "import os\n",
    "import json\n",
    "import subprocess\n",
    "import uuid\n",
    "from IPython.display import Audio\n",
    "from playlist_copilot.utils.smp_utils import get_track_info"
   ]
  },
  {
   "cell_type": "code",
   "execution_count": 14,
   "metadata": {},
   "outputs": [],
   "source": [
    "# Function to read .m3u file and extract MP3 file paths\n",
    "def read_m3u(file_path):\n",
    "    mp3_file_paths = []\n",
    "\n",
    "    with open(file_path, 'r') as file:\n",
    "        for line in file:\n",
    "            # Skip empty lines and lines that start with '#'\n",
    "            if line.strip() and not line.startswith('#'):\n",
    "                mp3_file_paths.append(line.strip())\n",
    "\n",
    "    return mp3_file_paths\n",
    "\n",
    "# Function to create and display an audio player for each MP3 file\n",
    "def play_mp3_files(file_paths):\n",
    "    for path in file_paths:\n",
    "        track_id = os.path.splitext(os.path.basename(path))[0]\n",
    "        track_info = get_track_info(f'spotify:track:{track_id}')\n",
    "        artist = track_info['artist']\n",
    "        title = track_info['title']\n",
    "        album = track_info['album']\n",
    "        print(f\"{artist} | {title} | {album}\")\n",
    "        display(Audio(path, rate=None))\n",
    "\n",
    "# Function to display the songs selected and create a json using which audio can be played\n",
    "def print_playlist_songnames(file_paths, filename):\n",
    "    json_for_audio_playback = []\n",
    "    n=1\n",
    "    for path in file_paths:\n",
    "        track_id = os.path.splitext(os.path.basename(path))[0]\n",
    "        track_info = get_track_info(f'spotify:track:{track_id}')\n",
    "        track_json = {}\n",
    "        artist = track_info['artist']\n",
    "        title = track_info['title']\n",
    "        album = track_info['album']\n",
    "        track_json['sequence'] = n\n",
    "        track_json['artist'] = track_info\n",
    "        track_json['audio_filepath'] = path\n",
    "        print(f\"{artist} | {title} | {album}\")\n",
    "        json_for_audio_playback.append(track_json)\n",
    "        n+=1\n",
    "    with open(f'{filename}.json', 'w') as file:\n",
    "        json.dump(json_for_audio_playback, file, indent=4)\n"
   ]
  },
  {
   "cell_type": "code",
   "execution_count": 3,
   "metadata": {},
   "outputs": [],
   "source": [
    "# Sample input files defined\n",
    "\n",
    "# Hip-hop\n",
    "# T-Pain | Bartender | Epiphany\n",
    "# Lil Wayne | Believe Me | Believe Me\n",
    "# Sage The Gemini | Don't You | Remember Me\n",
    "# NISSIM | A Million Years | Lemala\n",
    "# Lil Durk | Money Walk | Lil Durk 2X\n",
    "tf_1 = 'tracks_1.txt'\n",
    "\n",
    "tf_2 = 'tracks_2.txt'"
   ]
  },
  {
   "cell_type": "code",
   "execution_count": 5,
   "metadata": {},
   "outputs": [
    {
     "name": "stdout",
     "output_type": "stream",
     "text": [
      "1. T-Pain | Bartender | Epiphany\n",
      "2. Rihanna | Loveeeeeee Song | Unapologetic\n",
      "3. Marian Hill | I Want You | ACT ONE\n",
      "4. Healy | Reckless | Subluxe\n",
      "5. Jamie Foxx | Blame It | Intuition\n",
      "6. Whethan | Good Nights (feat. Mascolo) | Good Nights (feat. Mascolo)\n",
      "7. Lil Wayne | Believe Me | Believe Me\n",
      "8. KAYTRANADA | DRIVE ME CRAZY | 99.9%\n",
      "9. Mike WiLL Made-It | 23 | 23\n",
      "10. Cousin Stizz | Headlock | One Night Only\n",
      "11. Wiz Khalifa | Bake Sale (feat. Travis Scott) | Khalifa\n",
      "12. Chris Brown | Deuces Remix - f/Drake, Kanye West & André 3000 - Explicit Version | Deuces Remix\n",
      "13. Sage The Gemini | Don't You | Remember Me\n",
      "14. Fetty Wap | RGF Island | Fetty Wap\n",
      "15. Trey Songz | Touchin, Lovin (feat. Nicki Minaj) | Trigga\n",
      "16. Skizzy Mars | Do You There (feat. Marc E. Bassy) | The Red Balloon Project\n",
      "17. Julie Bergan | Arigato | Arigato\n",
      "18. Peking Duk | High - Original Mix | High\n",
      "19. NISSIM | A Million Years | Lemala\n",
      "20. Illenium | Sleepwalker (Virtu Remix) (feat. Joni Fatora) | Ashes (Remixes)\n",
      "21. The Living Tombstone | Five Nights at Freddy's | Five Nights at Freddy's\n",
      "22. Selena Gomez | New Classic (single version) | Another Cinderella Story\n",
      "23. Tony Dize | Permitame | La Melodia De La Calle\n",
      "24. Pitbull | International Love | Planet Pit (Deluxe Version)\n",
      "25. Lil Durk | Money Walk | Lil Durk 2X\n"
     ]
    }
   ],
   "source": [
    "# USE CASE 2:= Starting from a set of songs\n",
    "\n",
    "input_tracks_file = tf_1\n",
    "\n",
    "# Additional parameters, if needed\n",
    "n = '5'  # Number of songs between each song in input_tracks_file\n",
    "randomness = '0'   # Degree of randomness in the playlist (default 0) [0-1]\n",
    "\n",
    "output_playlist_file = str(uuid.uuid4()) + '.m3u'\n",
    "script_2 = 'Join_the_dots.py'\n",
    "mp3tovec_2 = 'Pickles_test/mp3tovecs/mp3tovec.p'\n",
    "\n",
    "# Construct the command as a list\n",
    "command_3 = ['python', script_2, mp3tovec_2, '--noise', randomness,\n",
    "             '--input', input_tracks_file,\n",
    "            output_playlist_file, n]\n",
    "\n",
    "result = subprocess.run(command_3, stdout=subprocess.PIPE, stderr=subprocess.PIPE, text=True)\n",
    "\n",
    "# Read the .m3u file and get the MP3 file paths\n",
    "mp3_file_paths = read_m3u(output_playlist_file)\n",
    "print_playlist_songnames(mp3_file_paths)"
   ]
  },
  {
   "cell_type": "code",
   "execution_count": 15,
   "metadata": {},
   "outputs": [
    {
     "name": "stdout",
     "output_type": "stream",
     "text": [
      "T-Pain | Bartender | Epiphany\n",
      "Rihanna | Loveeeeeee Song | Unapologetic\n",
      "Marian Hill | I Want You | ACT ONE\n",
      "Healy | Reckless | Subluxe\n",
      "Jamie Foxx | Blame It | Intuition\n",
      "Whethan | Good Nights (feat. Mascolo) | Good Nights (feat. Mascolo)\n",
      "Lil Wayne | Believe Me | Believe Me\n",
      "KAYTRANADA | DRIVE ME CRAZY | 99.9%\n",
      "Mike WiLL Made-It | 23 | 23\n",
      "Cousin Stizz | Headlock | One Night Only\n",
      "Wiz Khalifa | Bake Sale (feat. Travis Scott) | Khalifa\n",
      "Chris Brown | Deuces Remix - f/Drake, Kanye West & André 3000 - Explicit Version | Deuces Remix\n",
      "Sage The Gemini | Don't You | Remember Me\n",
      "Fetty Wap | RGF Island | Fetty Wap\n",
      "Trey Songz | Touchin, Lovin (feat. Nicki Minaj) | Trigga\n",
      "Skizzy Mars | Do You There (feat. Marc E. Bassy) | The Red Balloon Project\n",
      "Julie Bergan | Arigato | Arigato\n",
      "Peking Duk | High - Original Mix | High\n",
      "NISSIM | A Million Years | Lemala\n",
      "Illenium | Sleepwalker (Virtu Remix) (feat. Joni Fatora) | Ashes (Remixes)\n",
      "The Living Tombstone | Five Nights at Freddy's | Five Nights at Freddy's\n",
      "Selena Gomez | New Classic (single version) | Another Cinderella Story\n",
      "Tony Dize | Permitame | La Melodia De La Calle\n",
      "Pitbull | International Love | Planet Pit (Deluxe Version)\n",
      "Lil Durk | Money Walk | Lil Durk 2X\n"
     ]
    }
   ],
   "source": [
    "# Use this cell to listen to the audios\n",
    "\n",
    "mp3_file_paths = read_m3u('4013c18d-0ed0-4ad6-8681-3c29372a9855.m3u')\n",
    "print_playlist_songnames(mp3_file_paths, '4013c18d-0ed0-4ad6-8681-3c29372a9855')"
   ]
  },
  {
   "cell_type": "code",
   "execution_count": null,
   "metadata": {},
   "outputs": [],
   "source": []
  }
 ],
 "metadata": {
  "kernelspec": {
   "display_name": "playlist_maker",
   "language": "python",
   "name": "python3"
  },
  "language_info": {
   "codemirror_mode": {
    "name": "ipython",
    "version": 3
   },
   "file_extension": ".py",
   "mimetype": "text/x-python",
   "name": "python",
   "nbconvert_exporter": "python",
   "pygments_lexer": "ipython3",
   "version": "3.8.13"
  }
 },
 "nbformat": 4,
 "nbformat_minor": 2
}
