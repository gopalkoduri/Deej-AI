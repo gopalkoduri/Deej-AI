{
 "cells": [
  {
   "cell_type": "code",
   "execution_count": null,
   "metadata": {},
   "outputs": [],
   "source": [
    "import os\n",
    "import subprocess\n",
    "import uuid\n",
    "import IPython.display as ipd\n",
    "from playlist_copilot.utils.smp_utils import get_track_info"
   ]
  },
  {
   "cell_type": "code",
   "execution_count": null,
   "metadata": {},
   "outputs": [],
   "source": [
    "# Function to read .m3u file and extract MP3 file paths\n",
    "def read_m3u(file_path):\n",
    "    mp3_file_paths = []\n",
    "\n",
    "    with open(file_path, 'r') as file:\n",
    "        for line in file:\n",
    "            # Skip empty lines and lines that start with '#'\n",
    "            if line.strip() and not line.startswith('#'):\n",
    "                mp3_file_paths.append(line.strip())\n",
    "\n",
    "    return mp3_file_paths\n",
    "\n",
    "# Function to create and display an audio player for each MP3 file\n",
    "def play_mp3_files(file_paths):\n",
    "    for path in file_paths:\n",
    "        track_id = os.path.splitext(os.path.basename(path))[0]\n",
    "        track_info = get_track_info(f'spotify:track:{track_id}')\n",
    "        artist = track_info['artist']\n",
    "        title = track_info['title']\n",
    "        album = track_info['album']\n",
    "        print(f\"{artist} | {title} | {album}\")\n",
    "        display(ipd.Audio(path))\n",
    "\n",
    "# Function to display the songs selected\n",
    "def print_playlist_songnames(file_paths):\n",
    "    n = 1\n",
    "    for path in file_paths:\n",
    "        track_id = os.path.splitext(os.path.basename(path))[0]\n",
    "        track_info = get_track_info(f'spotify:track:{track_id}')\n",
    "        artist = track_info['artist']\n",
    "        title = track_info['title']\n",
    "        album = track_info['album']\n",
    "        print(f\"{n}. {artist} | {title} | {album}\")\n",
    "        n += 1"
   ]
  },
  {
   "cell_type": "code",
   "execution_count": null,
   "metadata": {},
   "outputs": [],
   "source": [
    "# Sample input files defined\n",
    "tf_1 = 'tracks_1.txt'\n",
    "tf_2 = 'tracks_2.txt'\n",
    "tf_3 = 'tracks_3.txt'\n",
    "tf_4 = 'tracks_4.txt'"
   ]
  },
  {
   "cell_type": "code",
   "execution_count": null,
   "metadata": {},
   "outputs": [],
   "source": [
    "# Choose parameters and song\n",
    "input_tracks_file = tf_3\n",
    "# Additional parameters, if needed\n",
    "n = '10'  # Number of songs between each song in input_tracks_file\n",
    "randomness = '0'   # Degree of randomness in the playlist (default 0) [0-1]\n",
    "\n",
    "output_joindots_file = str(uuid.uuid4()) + '.m3u'\n",
    "script_2 = 'Join_the_dots.py'\n",
    "mp3tovec_2 = 'Pickles/mp3tovecs/mp3tovec.p'\n",
    "\n",
    "# Construct the command as a list\n",
    "command_3 = ['python', script_2, mp3tovec_2, '--noise', randomness,\n",
    "             '--input', input_tracks_file,\n",
    "            output_joindots_file, n]\n",
    "\n",
    "result = subprocess.run(command_3, stdout=subprocess.PIPE, stderr=subprocess.PIPE, text=True)\n",
    "\n",
    "# Displaying the output\n",
    "print(\"Standard Output:\")\n",
    "print(result.stdout)\n",
    "\n",
    "# Displaying any errors (if present)\n",
    "if result.stderr:\n",
    "    print(\"Standard Error:\")\n",
    "    print(result.stderr)\n",
    "\n",
    "\n"
   ]
  }
 ],
 "metadata": {
  "language_info": {
   "name": "python"
  }
 },
 "nbformat": 4,
 "nbformat_minor": 2
}
