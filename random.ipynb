{
 "cells": [
  {
   "cell_type": "code",
   "execution_count": 5,
   "metadata": {},
   "outputs": [],
   "source": [
    "from playlist_copilot.utils.smp_utils import get_track_info\n",
    "import IPython.display as ipd"
   ]
  },
  {
   "cell_type": "code",
   "execution_count": null,
   "metadata": {},
   "outputs": [],
   "source": [
    "import os\n",
    "import random\n",
    "\n",
    "def random_mp3_files(directory, n):\n",
    "    # List all files in the directory\n",
    "    all_files = os.listdir(directory)\n",
    "\n",
    "    # Filter out files that are not MP3\n",
    "    mp3_files = [file for file in all_files if file.endswith('.mp3')]\n",
    "\n",
    "    # Select 'n' random MP3 files\n",
    "    return random.sample(mp3_files, min(n, len(mp3_files)))\n",
    "\n",
    "# Function to create and display an audio player for each MP3 file\n",
    "def play_mp3_file(file_path):\n",
    "    track_id = os.path.splitext(file_path)[0]\n",
    "    track_info = get_track_info(f'spotify:track:{track_id}')\n",
    "    artist = track_info['artist']\n",
    "    title = track_info['title']\n",
    "    album = track_info['album']\n",
    "    print(f\"{artist} | {title} | {album}\")\n",
    "    #display(ipd.Audio(path))\n",
    "\n",
    "# Replace with your directory path\n",
    "directory_path = '/home/aditi/Code/tech/playlist-copilot/data/spotify-million-playlists/audio/'\n",
    "\n",
    "# Number of random files you want\n",
    "n = 50\n",
    "\n",
    "# Get random MP3 files\n",
    "random_files = random_mp3_files(directory_path, n)\n",
    "\n",
    "for each_file in random_files:\n",
    "    print(each_file)\n",
    "    play_mp3_file(each_file)\n",
    "    print(\"\\n\")\n",
    "\n",
    "#print(random_files)\n"
   ]
  },
  {
   "cell_type": "code",
   "execution_count": null,
   "metadata": {},
   "outputs": [],
   "source": [
    "def check_files_for_string(directory, string):\n",
    "    # List all files in the directory\n",
    "    all_files = os.listdir(directory)\n",
    "\n",
    "    # Filter files that contain the specified string in their filename\n",
    "    matching_files = [file for file in all_files if string in file]\n",
    "\n",
    "    return matching_files\n",
    "\n",
    "# Replace with your directory path\n",
    "directory_path = '/home/aditi/Code/tech/playlist-copilot/Deej-AI/Pickles/'\n",
    "\n",
    "# Replace with the string you want to search for\n",
    "search_string = '5bPokvOlgW9dRySVnVmyJ9'\n",
    "\n",
    "# Get files that contain the string\n",
    "files_with_string = check_files_for_string(directory_path, search_string)\n",
    "\n",
    "if files_with_string:\n",
    "    print(\"Files containing the string:\", files_with_string)\n",
    "else:\n",
    "    print(\"No files found containing the string.\")\n"
   ]
  },
  {
   "cell_type": "code",
   "execution_count": null,
   "metadata": {},
   "outputs": [],
   "source": []
  }
 ],
 "metadata": {
  "kernelspec": {
   "display_name": "playlist_maker",
   "language": "python",
   "name": "python3"
  },
  "language_info": {
   "codemirror_mode": {
    "name": "ipython",
    "version": 3
   },
   "file_extension": ".py",
   "mimetype": "text/x-python",
   "name": "python",
   "nbconvert_exporter": "python",
   "pygments_lexer": "ipython3",
   "version": "3.8.13"
  }
 },
 "nbformat": 4,
 "nbformat_minor": 2
}
